{
 "cells": [
  {
   "cell_type": "code",
   "execution_count": 5,
   "metadata": {},
   "outputs": [],
   "source": [
    "from methods.get_data import getWeatherForecast\n",
    "import pandas as pd\n",
    "import numpy as np\n",
    "from matplotlib import pyplot as plt"
   ]
  },
  {
   "cell_type": "code",
   "execution_count": 6,
   "metadata": {},
   "outputs": [],
   "source": [
    "API_KEY=\"XFX3XC3N2BQDJ4PX78TAJSN9Q\"\n",
    "LOCATION=\"New York City,NY\"\n",
    "UNIT_GROUP=\"us\""
   ]
  },
  {
   "cell_type": "code",
   "execution_count": 12,
   "metadata": {},
   "outputs": [
    {
     "name": "stdout",
     "output_type": "stream",
     "text": [
      "Weather requestUrl=https://weather.visualcrossing.com/VisualCrossingWebServices/rest/services/timeline/New+York+City%2CNY?key=XFX3XC3N2BQDJ4PX78TAJSN9Q&unitGroup=us&include=days\n",
      "Weather forecast for New York, NY, United States\n"
     ]
    }
   ],
   "source": [
    "weatherForecast = getWeatherForecast(API_KEY)\n",
    "print('Weather forecast for {location}'.format(location=weatherForecast['resolvedAddress']))\n",
    "\n",
    "days=weatherForecast['days']\n",
    "df = pd.DataFrame(days)"
   ]
  },
  {
   "cell_type": "code",
   "execution_count": 4,
   "metadata": {},
   "outputs": [
    {
     "data": {
      "text/plain": [
       "Index(['datetime', 'datetimeEpoch', 'tempmax', 'tempmin', 'temp',\n",
       "       'feelslikemax', 'feelslikemin', 'feelslike', 'dew', 'humidity',\n",
       "       'precip', 'precipprob', 'precipcover', 'preciptype', 'snow',\n",
       "       'snowdepth', 'windgust', 'windspeed', 'winddir', 'pressure',\n",
       "       'cloudcover', 'visibility', 'solarradiation', 'solarenergy', 'uvindex',\n",
       "       'severerisk', 'sunrise', 'sunriseEpoch', 'sunset', 'sunsetEpoch',\n",
       "       'moonphase', 'conditions', 'description', 'icon', 'stations', 'source'],\n",
       "      dtype='object')"
      ]
     },
     "execution_count": 4,
     "metadata": {},
     "output_type": "execute_result"
    }
   ],
   "source": [
    "df.columns"
   ]
  },
  {
   "cell_type": "code",
   "execution_count": 14,
   "metadata": {},
   "outputs": [],
   "source": [
    "df.to_csv(f'data/{LOCATION}_{UNIT_GROUP}.csv')"
   ]
  },
  {
   "cell_type": "code",
   "execution_count": null,
   "metadata": {},
   "outputs": [],
   "source": []
  }
 ],
 "metadata": {
  "kernelspec": {
   "display_name": "Python 3.9.7 ('base')",
   "language": "python",
   "name": "python3"
  },
  "language_info": {
   "codemirror_mode": {
    "name": "ipython",
    "version": 3
   },
   "file_extension": ".py",
   "mimetype": "text/x-python",
   "name": "python",
   "nbconvert_exporter": "python",
   "pygments_lexer": "ipython3",
   "version": "3.9.7"
  },
  "orig_nbformat": 4,
  "vscode": {
   "interpreter": {
    "hash": "957e94d179d2a40db54294ab2382e83017c7fbd01cb2633fbfaef2eb17d639b4"
   }
  }
 },
 "nbformat": 4,
 "nbformat_minor": 2
}
